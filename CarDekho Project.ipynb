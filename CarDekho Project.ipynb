{
 "cells": [
  {
   "cell_type": "code",
   "execution_count": 60,
   "id": "e7a5c986",
   "metadata": {},
   "outputs": [],
   "source": [
    "import numpy as np\n",
    "import pandas as pd\n",
    "import seaborn as sns\n",
    "import matplotlib.pyplot as plt\n",
    "%matplotlib inline"
   ]
  },
  {
   "cell_type": "code",
   "execution_count": 61,
   "id": "23a1b72d",
   "metadata": {},
   "outputs": [],
   "source": [
    "df = pd.read_csv(r'C:\\Users\\vansh\\Desktop\\Vansh\\ds\\CarDekho\\CarDetails.csv')"
   ]
  },
  {
   "cell_type": "code",
   "execution_count": 62,
   "id": "68365dbd",
   "metadata": {},
   "outputs": [
    {
     "data": {
      "text/html": [
       "<div>\n",
       "<style scoped>\n",
       "    .dataframe tbody tr th:only-of-type {\n",
       "        vertical-align: middle;\n",
       "    }\n",
       "\n",
       "    .dataframe tbody tr th {\n",
       "        vertical-align: top;\n",
       "    }\n",
       "\n",
       "    .dataframe thead th {\n",
       "        text-align: right;\n",
       "    }\n",
       "</style>\n",
       "<table border=\"1\" class=\"dataframe\">\n",
       "  <thead>\n",
       "    <tr style=\"text-align: right;\">\n",
       "      <th></th>\n",
       "      <th>name</th>\n",
       "      <th>year</th>\n",
       "      <th>selling_price</th>\n",
       "      <th>km_driven</th>\n",
       "      <th>fuel</th>\n",
       "      <th>seller_type</th>\n",
       "      <th>transmission</th>\n",
       "      <th>owner</th>\n",
       "      <th>mileage</th>\n",
       "      <th>engine</th>\n",
       "      <th>max_power</th>\n",
       "      <th>torque</th>\n",
       "      <th>seats</th>\n",
       "    </tr>\n",
       "  </thead>\n",
       "  <tbody>\n",
       "    <tr>\n",
       "      <th>0</th>\n",
       "      <td>Maruti Swift Dzire VDI</td>\n",
       "      <td>2014</td>\n",
       "      <td>450000</td>\n",
       "      <td>145500</td>\n",
       "      <td>Diesel</td>\n",
       "      <td>Individual</td>\n",
       "      <td>Manual</td>\n",
       "      <td>First Owner</td>\n",
       "      <td>23.4 kmpl</td>\n",
       "      <td>1248 CC</td>\n",
       "      <td>74 bhp</td>\n",
       "      <td>190Nm@ 2000rpm</td>\n",
       "      <td>5.0</td>\n",
       "    </tr>\n",
       "    <tr>\n",
       "      <th>1</th>\n",
       "      <td>Skoda Rapid 1.5 TDI Ambition</td>\n",
       "      <td>2014</td>\n",
       "      <td>370000</td>\n",
       "      <td>120000</td>\n",
       "      <td>Diesel</td>\n",
       "      <td>Individual</td>\n",
       "      <td>Manual</td>\n",
       "      <td>Second Owner</td>\n",
       "      <td>21.14 kmpl</td>\n",
       "      <td>1498 CC</td>\n",
       "      <td>103.52 bhp</td>\n",
       "      <td>250Nm@ 1500-2500rpm</td>\n",
       "      <td>5.0</td>\n",
       "    </tr>\n",
       "    <tr>\n",
       "      <th>2</th>\n",
       "      <td>Honda City 2017-2020 EXi</td>\n",
       "      <td>2006</td>\n",
       "      <td>158000</td>\n",
       "      <td>140000</td>\n",
       "      <td>Petrol</td>\n",
       "      <td>Individual</td>\n",
       "      <td>Manual</td>\n",
       "      <td>Third Owner</td>\n",
       "      <td>17.7 kmpl</td>\n",
       "      <td>1497 CC</td>\n",
       "      <td>78 bhp</td>\n",
       "      <td>12.7@ 2,700(kgm@ rpm)</td>\n",
       "      <td>5.0</td>\n",
       "    </tr>\n",
       "    <tr>\n",
       "      <th>3</th>\n",
       "      <td>Hyundai i20 Sportz Diesel</td>\n",
       "      <td>2010</td>\n",
       "      <td>225000</td>\n",
       "      <td>127000</td>\n",
       "      <td>Diesel</td>\n",
       "      <td>Individual</td>\n",
       "      <td>Manual</td>\n",
       "      <td>First Owner</td>\n",
       "      <td>23.0 kmpl</td>\n",
       "      <td>1396 CC</td>\n",
       "      <td>90 bhp</td>\n",
       "      <td>22.4 kgm at 1750-2750rpm</td>\n",
       "      <td>5.0</td>\n",
       "    </tr>\n",
       "    <tr>\n",
       "      <th>4</th>\n",
       "      <td>Maruti Swift VXI BSIII</td>\n",
       "      <td>2007</td>\n",
       "      <td>130000</td>\n",
       "      <td>120000</td>\n",
       "      <td>Petrol</td>\n",
       "      <td>Individual</td>\n",
       "      <td>Manual</td>\n",
       "      <td>First Owner</td>\n",
       "      <td>16.1 kmpl</td>\n",
       "      <td>1298 CC</td>\n",
       "      <td>88.2 bhp</td>\n",
       "      <td>11.5@ 4,500(kgm@ rpm)</td>\n",
       "      <td>5.0</td>\n",
       "    </tr>\n",
       "  </tbody>\n",
       "</table>\n",
       "</div>"
      ],
      "text/plain": [
       "                           name  year  selling_price  km_driven    fuel  \\\n",
       "0        Maruti Swift Dzire VDI  2014         450000     145500  Diesel   \n",
       "1  Skoda Rapid 1.5 TDI Ambition  2014         370000     120000  Diesel   \n",
       "2      Honda City 2017-2020 EXi  2006         158000     140000  Petrol   \n",
       "3     Hyundai i20 Sportz Diesel  2010         225000     127000  Diesel   \n",
       "4        Maruti Swift VXI BSIII  2007         130000     120000  Petrol   \n",
       "\n",
       "  seller_type transmission         owner     mileage   engine   max_power  \\\n",
       "0  Individual       Manual   First Owner   23.4 kmpl  1248 CC      74 bhp   \n",
       "1  Individual       Manual  Second Owner  21.14 kmpl  1498 CC  103.52 bhp   \n",
       "2  Individual       Manual   Third Owner   17.7 kmpl  1497 CC      78 bhp   \n",
       "3  Individual       Manual   First Owner   23.0 kmpl  1396 CC      90 bhp   \n",
       "4  Individual       Manual   First Owner   16.1 kmpl  1298 CC    88.2 bhp   \n",
       "\n",
       "                     torque  seats  \n",
       "0            190Nm@ 2000rpm    5.0  \n",
       "1       250Nm@ 1500-2500rpm    5.0  \n",
       "2     12.7@ 2,700(kgm@ rpm)    5.0  \n",
       "3  22.4 kgm at 1750-2750rpm    5.0  \n",
       "4     11.5@ 4,500(kgm@ rpm)    5.0  "
      ]
     },
     "execution_count": 62,
     "metadata": {},
     "output_type": "execute_result"
    }
   ],
   "source": [
    "df.head()"
   ]
  },
  {
   "cell_type": "code",
   "execution_count": 63,
   "id": "c54c33df",
   "metadata": {},
   "outputs": [
    {
     "data": {
      "text/plain": [
       "(8128, 13)"
      ]
     },
     "execution_count": 63,
     "metadata": {},
     "output_type": "execute_result"
    }
   ],
   "source": [
    "df.shape"
   ]
  },
  {
   "cell_type": "code",
   "execution_count": 64,
   "id": "d1fb5351",
   "metadata": {},
   "outputs": [
    {
     "name": "stdout",
     "output_type": "stream",
     "text": [
      "<class 'pandas.core.frame.DataFrame'>\n",
      "RangeIndex: 8128 entries, 0 to 8127\n",
      "Data columns (total 13 columns):\n",
      " #   Column         Non-Null Count  Dtype  \n",
      "---  ------         --------------  -----  \n",
      " 0   name           8128 non-null   object \n",
      " 1   year           8128 non-null   int64  \n",
      " 2   selling_price  8128 non-null   int64  \n",
      " 3   km_driven      8128 non-null   int64  \n",
      " 4   fuel           8128 non-null   object \n",
      " 5   seller_type    8128 non-null   object \n",
      " 6   transmission   8128 non-null   object \n",
      " 7   owner          8128 non-null   object \n",
      " 8   mileage        7907 non-null   object \n",
      " 9   engine         7907 non-null   object \n",
      " 10  max_power      7913 non-null   object \n",
      " 11  torque         7906 non-null   object \n",
      " 12  seats          7907 non-null   float64\n",
      "dtypes: float64(1), int64(3), object(9)\n",
      "memory usage: 825.6+ KB\n"
     ]
    }
   ],
   "source": [
    "df.info()"
   ]
  },
  {
   "cell_type": "code",
   "execution_count": 65,
   "id": "8cf43129",
   "metadata": {},
   "outputs": [
    {
     "data": {
      "text/plain": [
       "name             2058\n",
       "year               29\n",
       "selling_price     677\n",
       "km_driven         921\n",
       "fuel                4\n",
       "seller_type         3\n",
       "transmission        2\n",
       "owner               5\n",
       "mileage           393\n",
       "engine            121\n",
       "max_power         322\n",
       "torque            441\n",
       "seats               9\n",
       "dtype: int64"
      ]
     },
     "execution_count": 65,
     "metadata": {},
     "output_type": "execute_result"
    }
   ],
   "source": [
    "df.nunique()"
   ]
  },
  {
   "cell_type": "code",
   "execution_count": 66,
   "id": "6edea13d",
   "metadata": {},
   "outputs": [
    {
     "data": {
      "text/plain": [
       "array(['Individual', 'Dealer', 'Trustmark Dealer'], dtype=object)"
      ]
     },
     "execution_count": 66,
     "metadata": {},
     "output_type": "execute_result"
    }
   ],
   "source": [
    "df['seller_type'].unique()"
   ]
  },
  {
   "cell_type": "code",
   "execution_count": 67,
   "id": "d68769cd",
   "metadata": {},
   "outputs": [
    {
     "data": {
      "text/plain": [
       "name               0\n",
       "year               0\n",
       "selling_price      0\n",
       "km_driven          0\n",
       "fuel               0\n",
       "seller_type        0\n",
       "transmission       0\n",
       "owner              0\n",
       "mileage          221\n",
       "engine           221\n",
       "max_power        215\n",
       "torque           222\n",
       "seats            221\n",
       "dtype: int64"
      ]
     },
     "execution_count": 67,
     "metadata": {},
     "output_type": "execute_result"
    }
   ],
   "source": [
    "df.isnull().sum()"
   ]
  },
  {
   "cell_type": "code",
   "execution_count": 68,
   "id": "2108cf0b",
   "metadata": {},
   "outputs": [],
   "source": [
    "company = df['name'].str.split(' ',expand = True)"
   ]
  },
  {
   "cell_type": "code",
   "execution_count": 69,
   "id": "fdd46278",
   "metadata": {},
   "outputs": [],
   "source": [
    "df['Company'] = company[0]"
   ]
  },
  {
   "cell_type": "code",
   "execution_count": 70,
   "id": "0bdba469",
   "metadata": {},
   "outputs": [
    {
     "data": {
      "text/plain": [
       "0        Maruti\n",
       "1         Skoda\n",
       "2         Honda\n",
       "3       Hyundai\n",
       "4        Maruti\n",
       "         ...   \n",
       "8123    Hyundai\n",
       "8124    Hyundai\n",
       "8125     Maruti\n",
       "8126       Tata\n",
       "8127       Tata\n",
       "Name: Company, Length: 8128, dtype: object"
      ]
     },
     "execution_count": 70,
     "metadata": {},
     "output_type": "execute_result"
    }
   ],
   "source": [
    "df['Company']"
   ]
  },
  {
   "cell_type": "code",
   "execution_count": 71,
   "id": "d267a5c7",
   "metadata": {},
   "outputs": [
    {
     "data": {
      "text/plain": [
       "array(['Maruti', 'Skoda', 'Honda', 'Hyundai', 'Toyota', 'Ford', 'Renault',\n",
       "       'Mahindra', 'Tata', 'Chevrolet', 'Fiat', 'Datsun', 'Jeep',\n",
       "       'Mercedes-Benz', 'Mitsubishi', 'Audi', 'Volkswagen', 'BMW',\n",
       "       'Nissan', 'Lexus', 'Jaguar', 'Land', 'MG', 'Volvo', 'Daewoo',\n",
       "       'Kia', 'Force', 'Ambassador', 'Ashok', 'Isuzu', 'Opel', 'Peugeot'],\n",
       "      dtype=object)"
      ]
     },
     "execution_count": 71,
     "metadata": {},
     "output_type": "execute_result"
    }
   ],
   "source": [
    "df['Company'].unique()"
   ]
  },
  {
   "cell_type": "code",
   "execution_count": 72,
   "id": "d586538e",
   "metadata": {},
   "outputs": [],
   "source": [
    "df.drop(df.Company[df.Company=='Peugeot'].index,inplace = True)"
   ]
  },
  {
   "cell_type": "code",
   "execution_count": 73,
   "id": "a180ce50",
   "metadata": {},
   "outputs": [
    {
     "data": {
      "text/plain": [
       "array(['Maruti', 'Fiat', 'Tata', 'BMW', 'Toyota', 'Mahindra', 'Hyundai',\n",
       "       'Skoda', 'Honda', 'Ford', 'Volkswagen'], dtype=object)"
      ]
     },
     "execution_count": 73,
     "metadata": {},
     "output_type": "execute_result"
    }
   ],
   "source": [
    "df['Company'][df['mileage'].isna()].unique()"
   ]
  },
  {
   "cell_type": "code",
   "execution_count": 74,
   "id": "65f576d4",
   "metadata": {},
   "outputs": [],
   "source": [
    "mileage = df['mileage'].str.split(' ',expand=True)\n",
    "engine = df['engine'].str.split(' ',expand=True)\n",
    "max_power = df['max_power'].str.split(' ',expand=True)"
   ]
  },
  {
   "cell_type": "code",
   "execution_count": 75,
   "id": "75f216cc",
   "metadata": {},
   "outputs": [],
   "source": [
    "df['Mileage'] = mileage[0] \n",
    "df['Engine'] = engine[0] \n",
    "df['MaxPower'] = max_power[0] "
   ]
  },
  {
   "cell_type": "code",
   "execution_count": 76,
   "id": "4da951c0",
   "metadata": {},
   "outputs": [
    {
     "data": {
      "text/plain": [
       "name             Honda Jazz Select Edition Active\n",
       "year                                         2011\n",
       "selling_price                              350000\n",
       "km_driven                                   80000\n",
       "fuel                                       Petrol\n",
       "seller_type                            Individual\n",
       "transmission                               Manual\n",
       "owner                                Second Owner\n",
       "mileage                                 16.0 kmpl\n",
       "engine                                    1198 CC\n",
       "max_power                                  90 bhp\n",
       "torque                            110(11.2)@ 4800\n",
       "seats                                         5.0\n",
       "Company                                     Honda\n",
       "Mileage                                      16.0\n",
       "Engine                                       1198\n",
       "MaxPower                                       90\n",
       "Name: 2000, dtype: object"
      ]
     },
     "execution_count": 76,
     "metadata": {},
     "output_type": "execute_result"
    }
   ],
   "source": [
    "df.iloc[2000]"
   ]
  },
  {
   "cell_type": "code",
   "execution_count": 77,
   "id": "fa08c54e",
   "metadata": {},
   "outputs": [],
   "source": [
    "torque = df['torque'].str.split('@',expand=True)"
   ]
  },
  {
   "cell_type": "code",
   "execution_count": 78,
   "id": "b31c40f8",
   "metadata": {},
   "outputs": [],
   "source": [
    "torque = torque[0].str.split('N',expand=True)"
   ]
  },
  {
   "cell_type": "code",
   "execution_count": 79,
   "id": "f451af10",
   "metadata": {},
   "outputs": [],
   "source": [
    "torque = torque[0].str.split('n',expand=True)"
   ]
  },
  {
   "cell_type": "code",
   "execution_count": 80,
   "id": "8f65cff9",
   "metadata": {},
   "outputs": [],
   "source": [
    "torque = torque[0].str.split('k',expand=True)"
   ]
  },
  {
   "cell_type": "code",
   "execution_count": 81,
   "id": "eea20aa0",
   "metadata": {},
   "outputs": [],
   "source": [
    "torque = torque[0].str.split('(',expand=True)"
   ]
  },
  {
   "cell_type": "code",
   "execution_count": 82,
   "id": "f23adbe4",
   "metadata": {},
   "outputs": [],
   "source": [
    "torque = torque[0].str.split(' ',expand=True)"
   ]
  },
  {
   "cell_type": "code",
   "execution_count": 83,
   "id": "154f94ea",
   "metadata": {},
   "outputs": [],
   "source": [
    "df['Torque'] = torque[0]"
   ]
  },
  {
   "cell_type": "code",
   "execution_count": 84,
   "id": "cc55ec68",
   "metadata": {},
   "outputs": [
    {
     "data": {
      "text/html": [
       "<div>\n",
       "<style scoped>\n",
       "    .dataframe tbody tr th:only-of-type {\n",
       "        vertical-align: middle;\n",
       "    }\n",
       "\n",
       "    .dataframe tbody tr th {\n",
       "        vertical-align: top;\n",
       "    }\n",
       "\n",
       "    .dataframe thead th {\n",
       "        text-align: right;\n",
       "    }\n",
       "</style>\n",
       "<table border=\"1\" class=\"dataframe\">\n",
       "  <thead>\n",
       "    <tr style=\"text-align: right;\">\n",
       "      <th></th>\n",
       "      <th>name</th>\n",
       "      <th>year</th>\n",
       "      <th>selling_price</th>\n",
       "      <th>km_driven</th>\n",
       "      <th>fuel</th>\n",
       "      <th>seller_type</th>\n",
       "      <th>transmission</th>\n",
       "      <th>owner</th>\n",
       "      <th>mileage</th>\n",
       "      <th>engine</th>\n",
       "      <th>max_power</th>\n",
       "      <th>torque</th>\n",
       "      <th>seats</th>\n",
       "      <th>Company</th>\n",
       "      <th>Mileage</th>\n",
       "      <th>Engine</th>\n",
       "      <th>MaxPower</th>\n",
       "      <th>Torque</th>\n",
       "      <th>Age</th>\n",
       "    </tr>\n",
       "  </thead>\n",
       "  <tbody>\n",
       "    <tr>\n",
       "      <th>0</th>\n",
       "      <td>Maruti Swift Dzire VDI</td>\n",
       "      <td>2014</td>\n",
       "      <td>450000</td>\n",
       "      <td>145500</td>\n",
       "      <td>Diesel</td>\n",
       "      <td>Individual</td>\n",
       "      <td>Manual</td>\n",
       "      <td>First Owner</td>\n",
       "      <td>23.4 kmpl</td>\n",
       "      <td>1248 CC</td>\n",
       "      <td>74 bhp</td>\n",
       "      <td>190Nm@ 2000rpm</td>\n",
       "      <td>5.0</td>\n",
       "      <td>Maruti</td>\n",
       "      <td>23.4</td>\n",
       "      <td>1248</td>\n",
       "      <td>74</td>\n",
       "      <td>190</td>\n",
       "      <td>8</td>\n",
       "    </tr>\n",
       "    <tr>\n",
       "      <th>1</th>\n",
       "      <td>Skoda Rapid 1.5 TDI Ambition</td>\n",
       "      <td>2014</td>\n",
       "      <td>370000</td>\n",
       "      <td>120000</td>\n",
       "      <td>Diesel</td>\n",
       "      <td>Individual</td>\n",
       "      <td>Manual</td>\n",
       "      <td>Second Owner</td>\n",
       "      <td>21.14 kmpl</td>\n",
       "      <td>1498 CC</td>\n",
       "      <td>103.52 bhp</td>\n",
       "      <td>250Nm@ 1500-2500rpm</td>\n",
       "      <td>5.0</td>\n",
       "      <td>Skoda</td>\n",
       "      <td>21.14</td>\n",
       "      <td>1498</td>\n",
       "      <td>103.52</td>\n",
       "      <td>250</td>\n",
       "      <td>8</td>\n",
       "    </tr>\n",
       "    <tr>\n",
       "      <th>2</th>\n",
       "      <td>Honda City 2017-2020 EXi</td>\n",
       "      <td>2006</td>\n",
       "      <td>158000</td>\n",
       "      <td>140000</td>\n",
       "      <td>Petrol</td>\n",
       "      <td>Individual</td>\n",
       "      <td>Manual</td>\n",
       "      <td>Third Owner</td>\n",
       "      <td>17.7 kmpl</td>\n",
       "      <td>1497 CC</td>\n",
       "      <td>78 bhp</td>\n",
       "      <td>12.7@ 2,700(kgm@ rpm)</td>\n",
       "      <td>5.0</td>\n",
       "      <td>Honda</td>\n",
       "      <td>17.7</td>\n",
       "      <td>1497</td>\n",
       "      <td>78</td>\n",
       "      <td>12.7</td>\n",
       "      <td>16</td>\n",
       "    </tr>\n",
       "    <tr>\n",
       "      <th>3</th>\n",
       "      <td>Hyundai i20 Sportz Diesel</td>\n",
       "      <td>2010</td>\n",
       "      <td>225000</td>\n",
       "      <td>127000</td>\n",
       "      <td>Diesel</td>\n",
       "      <td>Individual</td>\n",
       "      <td>Manual</td>\n",
       "      <td>First Owner</td>\n",
       "      <td>23.0 kmpl</td>\n",
       "      <td>1396 CC</td>\n",
       "      <td>90 bhp</td>\n",
       "      <td>22.4 kgm at 1750-2750rpm</td>\n",
       "      <td>5.0</td>\n",
       "      <td>Hyundai</td>\n",
       "      <td>23.0</td>\n",
       "      <td>1396</td>\n",
       "      <td>90</td>\n",
       "      <td>22.4</td>\n",
       "      <td>12</td>\n",
       "    </tr>\n",
       "    <tr>\n",
       "      <th>4</th>\n",
       "      <td>Maruti Swift VXI BSIII</td>\n",
       "      <td>2007</td>\n",
       "      <td>130000</td>\n",
       "      <td>120000</td>\n",
       "      <td>Petrol</td>\n",
       "      <td>Individual</td>\n",
       "      <td>Manual</td>\n",
       "      <td>First Owner</td>\n",
       "      <td>16.1 kmpl</td>\n",
       "      <td>1298 CC</td>\n",
       "      <td>88.2 bhp</td>\n",
       "      <td>11.5@ 4,500(kgm@ rpm)</td>\n",
       "      <td>5.0</td>\n",
       "      <td>Maruti</td>\n",
       "      <td>16.1</td>\n",
       "      <td>1298</td>\n",
       "      <td>88.2</td>\n",
       "      <td>11.5</td>\n",
       "      <td>15</td>\n",
       "    </tr>\n",
       "  </tbody>\n",
       "</table>\n",
       "</div>"
      ],
      "text/plain": [
       "                           name  year  selling_price  km_driven    fuel  \\\n",
       "0        Maruti Swift Dzire VDI  2014         450000     145500  Diesel   \n",
       "1  Skoda Rapid 1.5 TDI Ambition  2014         370000     120000  Diesel   \n",
       "2      Honda City 2017-2020 EXi  2006         158000     140000  Petrol   \n",
       "3     Hyundai i20 Sportz Diesel  2010         225000     127000  Diesel   \n",
       "4        Maruti Swift VXI BSIII  2007         130000     120000  Petrol   \n",
       "\n",
       "  seller_type transmission         owner     mileage   engine   max_power  \\\n",
       "0  Individual       Manual   First Owner   23.4 kmpl  1248 CC      74 bhp   \n",
       "1  Individual       Manual  Second Owner  21.14 kmpl  1498 CC  103.52 bhp   \n",
       "2  Individual       Manual   Third Owner   17.7 kmpl  1497 CC      78 bhp   \n",
       "3  Individual       Manual   First Owner   23.0 kmpl  1396 CC      90 bhp   \n",
       "4  Individual       Manual   First Owner   16.1 kmpl  1298 CC    88.2 bhp   \n",
       "\n",
       "                     torque  seats  Company Mileage Engine MaxPower Torque  \\\n",
       "0            190Nm@ 2000rpm    5.0   Maruti    23.4   1248       74    190   \n",
       "1       250Nm@ 1500-2500rpm    5.0    Skoda   21.14   1498   103.52    250   \n",
       "2     12.7@ 2,700(kgm@ rpm)    5.0    Honda    17.7   1497       78   12.7   \n",
       "3  22.4 kgm at 1750-2750rpm    5.0  Hyundai    23.0   1396       90   22.4   \n",
       "4     11.5@ 4,500(kgm@ rpm)    5.0   Maruti    16.1   1298     88.2   11.5   \n",
       "\n",
       "   Age  \n",
       "0    8  \n",
       "1    8  \n",
       "2   16  \n",
       "3   12  \n",
       "4   15  "
      ]
     },
     "execution_count": 84,
     "metadata": {},
     "output_type": "execute_result"
    }
   ],
   "source": [
    "df['Age'] = 2022-df['year']\n",
    "df.head()"
   ]
  },
  {
   "cell_type": "code",
   "execution_count": null,
   "id": "332839ce",
   "metadata": {},
   "outputs": [],
   "source": []
  },
  {
   "cell_type": "code",
   "execution_count": 85,
   "id": "f414bbfe",
   "metadata": {},
   "outputs": [
    {
     "data": {
      "text/html": [
       "<div>\n",
       "<style scoped>\n",
       "    .dataframe tbody tr th:only-of-type {\n",
       "        vertical-align: middle;\n",
       "    }\n",
       "\n",
       "    .dataframe tbody tr th {\n",
       "        vertical-align: top;\n",
       "    }\n",
       "\n",
       "    .dataframe thead th {\n",
       "        text-align: right;\n",
       "    }\n",
       "</style>\n",
       "<table border=\"1\" class=\"dataframe\">\n",
       "  <thead>\n",
       "    <tr style=\"text-align: right;\">\n",
       "      <th></th>\n",
       "      <th>name</th>\n",
       "      <th>Company</th>\n",
       "      <th>Age</th>\n",
       "      <th>km_driven</th>\n",
       "      <th>fuel</th>\n",
       "      <th>seller_type</th>\n",
       "      <th>transmission</th>\n",
       "      <th>Mileage</th>\n",
       "      <th>Engine</th>\n",
       "      <th>MaxPower</th>\n",
       "      <th>Torque</th>\n",
       "      <th>owner</th>\n",
       "      <th>seats</th>\n",
       "      <th>selling_price</th>\n",
       "    </tr>\n",
       "  </thead>\n",
       "  <tbody>\n",
       "    <tr>\n",
       "      <th>0</th>\n",
       "      <td>Maruti Swift Dzire VDI</td>\n",
       "      <td>Maruti</td>\n",
       "      <td>8</td>\n",
       "      <td>145500</td>\n",
       "      <td>Diesel</td>\n",
       "      <td>Individual</td>\n",
       "      <td>Manual</td>\n",
       "      <td>23.4</td>\n",
       "      <td>1248</td>\n",
       "      <td>74</td>\n",
       "      <td>190</td>\n",
       "      <td>First Owner</td>\n",
       "      <td>5.0</td>\n",
       "      <td>450000</td>\n",
       "    </tr>\n",
       "    <tr>\n",
       "      <th>1</th>\n",
       "      <td>Skoda Rapid 1.5 TDI Ambition</td>\n",
       "      <td>Skoda</td>\n",
       "      <td>8</td>\n",
       "      <td>120000</td>\n",
       "      <td>Diesel</td>\n",
       "      <td>Individual</td>\n",
       "      <td>Manual</td>\n",
       "      <td>21.14</td>\n",
       "      <td>1498</td>\n",
       "      <td>103.52</td>\n",
       "      <td>250</td>\n",
       "      <td>Second Owner</td>\n",
       "      <td>5.0</td>\n",
       "      <td>370000</td>\n",
       "    </tr>\n",
       "    <tr>\n",
       "      <th>2</th>\n",
       "      <td>Honda City 2017-2020 EXi</td>\n",
       "      <td>Honda</td>\n",
       "      <td>16</td>\n",
       "      <td>140000</td>\n",
       "      <td>Petrol</td>\n",
       "      <td>Individual</td>\n",
       "      <td>Manual</td>\n",
       "      <td>17.7</td>\n",
       "      <td>1497</td>\n",
       "      <td>78</td>\n",
       "      <td>12.7</td>\n",
       "      <td>Third Owner</td>\n",
       "      <td>5.0</td>\n",
       "      <td>158000</td>\n",
       "    </tr>\n",
       "    <tr>\n",
       "      <th>3</th>\n",
       "      <td>Hyundai i20 Sportz Diesel</td>\n",
       "      <td>Hyundai</td>\n",
       "      <td>12</td>\n",
       "      <td>127000</td>\n",
       "      <td>Diesel</td>\n",
       "      <td>Individual</td>\n",
       "      <td>Manual</td>\n",
       "      <td>23.0</td>\n",
       "      <td>1396</td>\n",
       "      <td>90</td>\n",
       "      <td>22.4</td>\n",
       "      <td>First Owner</td>\n",
       "      <td>5.0</td>\n",
       "      <td>225000</td>\n",
       "    </tr>\n",
       "    <tr>\n",
       "      <th>4</th>\n",
       "      <td>Maruti Swift VXI BSIII</td>\n",
       "      <td>Maruti</td>\n",
       "      <td>15</td>\n",
       "      <td>120000</td>\n",
       "      <td>Petrol</td>\n",
       "      <td>Individual</td>\n",
       "      <td>Manual</td>\n",
       "      <td>16.1</td>\n",
       "      <td>1298</td>\n",
       "      <td>88.2</td>\n",
       "      <td>11.5</td>\n",
       "      <td>First Owner</td>\n",
       "      <td>5.0</td>\n",
       "      <td>130000</td>\n",
       "    </tr>\n",
       "  </tbody>\n",
       "</table>\n",
       "</div>"
      ],
      "text/plain": [
       "                           name  Company  Age  km_driven    fuel seller_type  \\\n",
       "0        Maruti Swift Dzire VDI   Maruti    8     145500  Diesel  Individual   \n",
       "1  Skoda Rapid 1.5 TDI Ambition    Skoda    8     120000  Diesel  Individual   \n",
       "2      Honda City 2017-2020 EXi    Honda   16     140000  Petrol  Individual   \n",
       "3     Hyundai i20 Sportz Diesel  Hyundai   12     127000  Diesel  Individual   \n",
       "4        Maruti Swift VXI BSIII   Maruti   15     120000  Petrol  Individual   \n",
       "\n",
       "  transmission Mileage Engine MaxPower Torque         owner  seats  \\\n",
       "0       Manual    23.4   1248       74    190   First Owner    5.0   \n",
       "1       Manual   21.14   1498   103.52    250  Second Owner    5.0   \n",
       "2       Manual    17.7   1497       78   12.7   Third Owner    5.0   \n",
       "3       Manual    23.0   1396       90   22.4   First Owner    5.0   \n",
       "4       Manual    16.1   1298     88.2   11.5   First Owner    5.0   \n",
       "\n",
       "   selling_price  \n",
       "0         450000  \n",
       "1         370000  \n",
       "2         158000  \n",
       "3         225000  \n",
       "4         130000  "
      ]
     },
     "execution_count": 85,
     "metadata": {},
     "output_type": "execute_result"
    }
   ],
   "source": [
    "Cardekho = df[['name','Company','Age', 'km_driven', 'fuel', 'seller_type','transmission', 'Mileage', 'Engine', 'MaxPower', 'Torque', 'owner','seats','selling_price']]\n",
    "Cardekho.head()"
   ]
  },
  {
   "cell_type": "code",
   "execution_count": 86,
   "id": "4d89742a",
   "metadata": {},
   "outputs": [
    {
     "name": "stderr",
     "output_type": "stream",
     "text": [
      "C:\\Users\\vansh\\AppData\\Local\\Temp/ipykernel_4744/3237220998.py:1: SettingWithCopyWarning: \n",
      "A value is trying to be set on a copy of a slice from a DataFrame.\n",
      "Try using .loc[row_indexer,col_indexer] = value instead\n",
      "\n",
      "See the caveats in the documentation: https://pandas.pydata.org/pandas-docs/stable/user_guide/indexing.html#returning-a-view-versus-a-copy\n",
      "  Cardekho['Mileage'] = pd.to_numeric(Cardekho['Mileage'])\n",
      "C:\\Users\\vansh\\AppData\\Local\\Temp/ipykernel_4744/3237220998.py:2: SettingWithCopyWarning: \n",
      "A value is trying to be set on a copy of a slice from a DataFrame.\n",
      "Try using .loc[row_indexer,col_indexer] = value instead\n",
      "\n",
      "See the caveats in the documentation: https://pandas.pydata.org/pandas-docs/stable/user_guide/indexing.html#returning-a-view-versus-a-copy\n",
      "  Cardekho['Engine'] = pd.to_numeric(Cardekho['Engine'])\n",
      "C:\\Users\\vansh\\AppData\\Local\\Temp/ipykernel_4744/3237220998.py:3: SettingWithCopyWarning: \n",
      "A value is trying to be set on a copy of a slice from a DataFrame.\n",
      "Try using .loc[row_indexer,col_indexer] = value instead\n",
      "\n",
      "See the caveats in the documentation: https://pandas.pydata.org/pandas-docs/stable/user_guide/indexing.html#returning-a-view-versus-a-copy\n",
      "  Cardekho['MaxPower'] = pd.to_numeric(Cardekho['MaxPower'])\n",
      "C:\\Users\\vansh\\AppData\\Local\\Temp/ipykernel_4744/3237220998.py:4: SettingWithCopyWarning: \n",
      "A value is trying to be set on a copy of a slice from a DataFrame.\n",
      "Try using .loc[row_indexer,col_indexer] = value instead\n",
      "\n",
      "See the caveats in the documentation: https://pandas.pydata.org/pandas-docs/stable/user_guide/indexing.html#returning-a-view-versus-a-copy\n",
      "  Cardekho['Torque'] = pd.to_numeric(Cardekho['Torque'])\n"
     ]
    }
   ],
   "source": [
    "Cardekho['Mileage'] = pd.to_numeric(Cardekho['Mileage'])\n",
    "Cardekho['Engine'] = pd.to_numeric(Cardekho['Engine'])\n",
    "Cardekho['MaxPower'] = pd.to_numeric(Cardekho['MaxPower'])\n",
    "Cardekho['Torque'] = pd.to_numeric(Cardekho['Torque'])"
   ]
  },
  {
   "cell_type": "code",
   "execution_count": 87,
   "id": "101f9728",
   "metadata": {},
   "outputs": [
    {
     "data": {
      "text/html": [
       "<div>\n",
       "<style scoped>\n",
       "    .dataframe tbody tr th:only-of-type {\n",
       "        vertical-align: middle;\n",
       "    }\n",
       "\n",
       "    .dataframe tbody tr th {\n",
       "        vertical-align: top;\n",
       "    }\n",
       "\n",
       "    .dataframe thead th {\n",
       "        text-align: right;\n",
       "    }\n",
       "</style>\n",
       "<table border=\"1\" class=\"dataframe\">\n",
       "  <thead>\n",
       "    <tr style=\"text-align: right;\">\n",
       "      <th></th>\n",
       "      <th>Mileage</th>\n",
       "      <th>Engine</th>\n",
       "      <th>MaxPower</th>\n",
       "      <th>Torque</th>\n",
       "    </tr>\n",
       "    <tr>\n",
       "      <th>Company</th>\n",
       "      <th></th>\n",
       "      <th></th>\n",
       "      <th></th>\n",
       "      <th></th>\n",
       "    </tr>\n",
       "  </thead>\n",
       "  <tbody>\n",
       "    <tr>\n",
       "      <th>Ambassador</th>\n",
       "      <td>12.975000</td>\n",
       "      <td>1868.500000</td>\n",
       "      <td>47.875000</td>\n",
       "      <td>97.725000</td>\n",
       "    </tr>\n",
       "    <tr>\n",
       "      <th>Ashok</th>\n",
       "      <td>20.070000</td>\n",
       "      <td>1461.000000</td>\n",
       "      <td>75.000000</td>\n",
       "      <td>185.000000</td>\n",
       "    </tr>\n",
       "    <tr>\n",
       "      <th>Audi</th>\n",
       "      <td>15.774500</td>\n",
       "      <td>2171.100000</td>\n",
       "      <td>191.045250</td>\n",
       "      <td>402.572500</td>\n",
       "    </tr>\n",
       "    <tr>\n",
       "      <th>BMW</th>\n",
       "      <td>17.426441</td>\n",
       "      <td>2109.406780</td>\n",
       "      <td>195.839492</td>\n",
       "      <td>403.726271</td>\n",
       "    </tr>\n",
       "    <tr>\n",
       "      <th>Chevrolet</th>\n",
       "      <td>18.437174</td>\n",
       "      <td>1389.708696</td>\n",
       "      <td>82.129174</td>\n",
       "      <td>157.014783</td>\n",
       "    </tr>\n",
       "    <tr>\n",
       "      <th>Daewoo</th>\n",
       "      <td>18.500000</td>\n",
       "      <td>796.000000</td>\n",
       "      <td>53.000000</td>\n",
       "      <td>71.000000</td>\n",
       "    </tr>\n",
       "    <tr>\n",
       "      <th>Datsun</th>\n",
       "      <td>21.086000</td>\n",
       "      <td>1081.461538</td>\n",
       "      <td>64.326154</td>\n",
       "      <td>95.200000</td>\n",
       "    </tr>\n",
       "    <tr>\n",
       "      <th>Fiat</th>\n",
       "      <td>19.451220</td>\n",
       "      <td>1252.292683</td>\n",
       "      <td>83.353659</td>\n",
       "      <td>184.707317</td>\n",
       "    </tr>\n",
       "    <tr>\n",
       "      <th>Force</th>\n",
       "      <td>17.000000</td>\n",
       "      <td>2407.000000</td>\n",
       "      <td>109.911667</td>\n",
       "      <td>275.500000</td>\n",
       "    </tr>\n",
       "    <tr>\n",
       "      <th>Ford</th>\n",
       "      <td>19.997758</td>\n",
       "      <td>1485.373711</td>\n",
       "      <td>90.409175</td>\n",
       "      <td>168.636856</td>\n",
       "    </tr>\n",
       "    <tr>\n",
       "      <th>Honda</th>\n",
       "      <td>19.736266</td>\n",
       "      <td>1443.004292</td>\n",
       "      <td>102.060021</td>\n",
       "      <td>142.194635</td>\n",
       "    </tr>\n",
       "    <tr>\n",
       "      <th>Hyundai</th>\n",
       "      <td>19.808088</td>\n",
       "      <td>1269.608824</td>\n",
       "      <td>87.095353</td>\n",
       "      <td>137.116162</td>\n",
       "    </tr>\n",
       "    <tr>\n",
       "      <th>Isuzu</th>\n",
       "      <td>12.896000</td>\n",
       "      <td>2699.000000</td>\n",
       "      <td>158.408000</td>\n",
       "      <td>352.600000</td>\n",
       "    </tr>\n",
       "    <tr>\n",
       "      <th>Jaguar</th>\n",
       "      <td>16.524789</td>\n",
       "      <td>2062.605634</td>\n",
       "      <td>182.742254</td>\n",
       "      <td>440.422535</td>\n",
       "    </tr>\n",
       "    <tr>\n",
       "      <th>Jeep</th>\n",
       "      <td>15.322581</td>\n",
       "      <td>2180.129032</td>\n",
       "      <td>189.747419</td>\n",
       "      <td>333.290323</td>\n",
       "    </tr>\n",
       "    <tr>\n",
       "      <th>Kia</th>\n",
       "      <td>18.550000</td>\n",
       "      <td>1493.000000</td>\n",
       "      <td>113.400000</td>\n",
       "      <td>250.000000</td>\n",
       "    </tr>\n",
       "    <tr>\n",
       "      <th>Land</th>\n",
       "      <td>10.670000</td>\n",
       "      <td>2059.000000</td>\n",
       "      <td>149.323333</td>\n",
       "      <td>391.333333</td>\n",
       "    </tr>\n",
       "    <tr>\n",
       "      <th>Lexus</th>\n",
       "      <td>22.370000</td>\n",
       "      <td>2487.000000</td>\n",
       "      <td>214.560000</td>\n",
       "      <td>202.000000</td>\n",
       "    </tr>\n",
       "    <tr>\n",
       "      <th>MG</th>\n",
       "      <td>13.960000</td>\n",
       "      <td>1451.000000</td>\n",
       "      <td>141.000000</td>\n",
       "      <td>250.000000</td>\n",
       "    </tr>\n",
       "    <tr>\n",
       "      <th>Mahindra</th>\n",
       "      <td>15.800858</td>\n",
       "      <td>2099.046174</td>\n",
       "      <td>99.872784</td>\n",
       "      <td>241.146174</td>\n",
       "    </tr>\n",
       "    <tr>\n",
       "      <th>Maruti</th>\n",
       "      <td>21.617137</td>\n",
       "      <td>1107.511402</td>\n",
       "      <td>70.462412</td>\n",
       "      <td>126.508196</td>\n",
       "    </tr>\n",
       "    <tr>\n",
       "      <th>Mercedes-Benz</th>\n",
       "      <td>13.452222</td>\n",
       "      <td>2300.796296</td>\n",
       "      <td>187.660556</td>\n",
       "      <td>371.231481</td>\n",
       "    </tr>\n",
       "    <tr>\n",
       "      <th>Mitsubishi</th>\n",
       "      <td>13.842857</td>\n",
       "      <td>2297.285714</td>\n",
       "      <td>125.621429</td>\n",
       "      <td>226.214286</td>\n",
       "    </tr>\n",
       "    <tr>\n",
       "      <th>Nissan</th>\n",
       "      <td>19.636049</td>\n",
       "      <td>1426.666667</td>\n",
       "      <td>86.805802</td>\n",
       "      <td>170.283951</td>\n",
       "    </tr>\n",
       "    <tr>\n",
       "      <th>Opel</th>\n",
       "      <td>13.100000</td>\n",
       "      <td>1598.000000</td>\n",
       "      <td>77.000000</td>\n",
       "      <td>121.000000</td>\n",
       "    </tr>\n",
       "    <tr>\n",
       "      <th>Renault</th>\n",
       "      <td>22.030395</td>\n",
       "      <td>1173.223684</td>\n",
       "      <td>76.919912</td>\n",
       "      <td>148.802632</td>\n",
       "    </tr>\n",
       "    <tr>\n",
       "      <th>Skoda</th>\n",
       "      <td>17.466827</td>\n",
       "      <td>1618.644231</td>\n",
       "      <td>104.191442</td>\n",
       "      <td>189.532692</td>\n",
       "    </tr>\n",
       "    <tr>\n",
       "      <th>Tata</th>\n",
       "      <td>18.845313</td>\n",
       "      <td>1508.201669</td>\n",
       "      <td>88.814743</td>\n",
       "      <td>170.058414</td>\n",
       "    </tr>\n",
       "    <tr>\n",
       "      <th>Toyota</th>\n",
       "      <td>15.147965</td>\n",
       "      <td>2241.477876</td>\n",
       "      <td>115.360465</td>\n",
       "      <td>186.131637</td>\n",
       "    </tr>\n",
       "    <tr>\n",
       "      <th>Volkswagen</th>\n",
       "      <td>19.287297</td>\n",
       "      <td>1445.156757</td>\n",
       "      <td>96.600135</td>\n",
       "      <td>199.722703</td>\n",
       "    </tr>\n",
       "    <tr>\n",
       "      <th>Volvo</th>\n",
       "      <td>17.547761</td>\n",
       "      <td>1976.164179</td>\n",
       "      <td>175.626866</td>\n",
       "      <td>382.388060</td>\n",
       "    </tr>\n",
       "  </tbody>\n",
       "</table>\n",
       "</div>"
      ],
      "text/plain": [
       "                 Mileage       Engine    MaxPower      Torque\n",
       "Company                                                      \n",
       "Ambassador     12.975000  1868.500000   47.875000   97.725000\n",
       "Ashok          20.070000  1461.000000   75.000000  185.000000\n",
       "Audi           15.774500  2171.100000  191.045250  402.572500\n",
       "BMW            17.426441  2109.406780  195.839492  403.726271\n",
       "Chevrolet      18.437174  1389.708696   82.129174  157.014783\n",
       "Daewoo         18.500000   796.000000   53.000000   71.000000\n",
       "Datsun         21.086000  1081.461538   64.326154   95.200000\n",
       "Fiat           19.451220  1252.292683   83.353659  184.707317\n",
       "Force          17.000000  2407.000000  109.911667  275.500000\n",
       "Ford           19.997758  1485.373711   90.409175  168.636856\n",
       "Honda          19.736266  1443.004292  102.060021  142.194635\n",
       "Hyundai        19.808088  1269.608824   87.095353  137.116162\n",
       "Isuzu          12.896000  2699.000000  158.408000  352.600000\n",
       "Jaguar         16.524789  2062.605634  182.742254  440.422535\n",
       "Jeep           15.322581  2180.129032  189.747419  333.290323\n",
       "Kia            18.550000  1493.000000  113.400000  250.000000\n",
       "Land           10.670000  2059.000000  149.323333  391.333333\n",
       "Lexus          22.370000  2487.000000  214.560000  202.000000\n",
       "MG             13.960000  1451.000000  141.000000  250.000000\n",
       "Mahindra       15.800858  2099.046174   99.872784  241.146174\n",
       "Maruti         21.617137  1107.511402   70.462412  126.508196\n",
       "Mercedes-Benz  13.452222  2300.796296  187.660556  371.231481\n",
       "Mitsubishi     13.842857  2297.285714  125.621429  226.214286\n",
       "Nissan         19.636049  1426.666667   86.805802  170.283951\n",
       "Opel           13.100000  1598.000000   77.000000  121.000000\n",
       "Renault        22.030395  1173.223684   76.919912  148.802632\n",
       "Skoda          17.466827  1618.644231  104.191442  189.532692\n",
       "Tata           18.845313  1508.201669   88.814743  170.058414\n",
       "Toyota         15.147965  2241.477876  115.360465  186.131637\n",
       "Volkswagen     19.287297  1445.156757   96.600135  199.722703\n",
       "Volvo          17.547761  1976.164179  175.626866  382.388060"
      ]
     },
     "execution_count": 87,
     "metadata": {},
     "output_type": "execute_result"
    }
   ],
   "source": [
    "Avg = (Cardekho.groupby('Company')).mean()\n",
    "Avg = Avg[['Mileage','Engine','MaxPower','Torque']]\n",
    "Avg"
   ]
  },
  {
   "cell_type": "code",
   "execution_count": 88,
   "id": "a8decac9",
   "metadata": {},
   "outputs": [
    {
     "name": "stderr",
     "output_type": "stream",
     "text": [
      "C:\\Users\\vansh\\anaconda3\\lib\\site-packages\\pandas\\core\\generic.py:6392: SettingWithCopyWarning: \n",
      "A value is trying to be set on a copy of a slice from a DataFrame\n",
      "\n",
      "See the caveats in the documentation: https://pandas.pydata.org/pandas-docs/stable/user_guide/indexing.html#returning-a-view-versus-a-copy\n",
      "  return self._update_inplace(result)\n"
     ]
    }
   ],
   "source": [
    "Cardekho['Mileage'].fillna(Avg.Mileage.mean(),inplace=True)\n",
    "Cardekho['Engine'].fillna(Avg.Engine.mean(),inplace=True)\n",
    "Cardekho['MaxPower'].fillna(Avg.MaxPower.mean(),inplace=True)\n",
    "Cardekho['Torque'].fillna(Avg.Torque.mean(),inplace=True)\n",
    "Cardekho['seats'].fillna(Cardekho.seats.mode()[0],inplace=True)"
   ]
  },
  {
   "cell_type": "code",
   "execution_count": 89,
   "id": "857bc7c2",
   "metadata": {},
   "outputs": [
    {
     "data": {
      "text/plain": [
       "5.0"
      ]
     },
     "execution_count": 89,
     "metadata": {},
     "output_type": "execute_result"
    }
   ],
   "source": [
    "Cardekho.seats.mode()[0]"
   ]
  },
  {
   "cell_type": "code",
   "execution_count": 90,
   "id": "2e51688a",
   "metadata": {},
   "outputs": [
    {
     "data": {
      "text/plain": [
       "name             0\n",
       "Company          0\n",
       "Age              0\n",
       "km_driven        0\n",
       "fuel             0\n",
       "seller_type      0\n",
       "transmission     0\n",
       "Mileage          0\n",
       "Engine           0\n",
       "MaxPower         0\n",
       "Torque           0\n",
       "owner            0\n",
       "seats            0\n",
       "selling_price    0\n",
       "dtype: int64"
      ]
     },
     "execution_count": 90,
     "metadata": {},
     "output_type": "execute_result"
    }
   ],
   "source": [
    "Cardekho.isnull().sum()"
   ]
  },
  {
   "cell_type": "code",
   "execution_count": 91,
   "id": "aeb894c2",
   "metadata": {},
   "outputs": [
    {
     "name": "stderr",
     "output_type": "stream",
     "text": [
      "C:\\Users\\vansh\\anaconda3\\lib\\site-packages\\pandas\\core\\indexing.py:1817: SettingWithCopyWarning: \n",
      "A value is trying to be set on a copy of a slice from a DataFrame.\n",
      "Try using .loc[row_indexer,col_indexer] = value instead\n",
      "\n",
      "See the caveats in the documentation: https://pandas.pydata.org/pandas-docs/stable/user_guide/indexing.html#returning-a-view-versus-a-copy\n",
      "  self._setitem_single_column(loc, value, pi)\n"
     ]
    }
   ],
   "source": [
    "Cardekho.at[170,'Mileage']=17\n",
    "Cardekho.at[Cardekho[Cardekho['Mileage']==0].index,'Mileage'] = Cardekho.Mileage.mean()"
   ]
  },
  {
   "cell_type": "code",
   "execution_count": 92,
   "id": "9359672c",
   "metadata": {},
   "outputs": [],
   "source": [
    "Cardekho.at[Cardekho[Cardekho['Torque']==789].index,'Torque']=78"
   ]
  },
  {
   "cell_type": "code",
   "execution_count": 93,
   "id": "8b4bf15d",
   "metadata": {
    "scrolled": true
   },
   "outputs": [
    {
     "data": {
      "text/html": [
       "<div>\n",
       "<style scoped>\n",
       "    .dataframe tbody tr th:only-of-type {\n",
       "        vertical-align: middle;\n",
       "    }\n",
       "\n",
       "    .dataframe tbody tr th {\n",
       "        vertical-align: top;\n",
       "    }\n",
       "\n",
       "    .dataframe thead th {\n",
       "        text-align: right;\n",
       "    }\n",
       "</style>\n",
       "<table border=\"1\" class=\"dataframe\">\n",
       "  <thead>\n",
       "    <tr style=\"text-align: right;\">\n",
       "      <th></th>\n",
       "      <th>fuel_Diesel</th>\n",
       "      <th>fuel_LPG</th>\n",
       "      <th>fuel_Petrol</th>\n",
       "      <th>owner_Fourth &amp; Above Owner</th>\n",
       "      <th>owner_Second Owner</th>\n",
       "      <th>owner_Test Drive Car</th>\n",
       "      <th>owner_Third Owner</th>\n",
       "      <th>transmission_Manual</th>\n",
       "      <th>seller_type_Individual</th>\n",
       "      <th>seller_type_Trustmark Dealer</th>\n",
       "    </tr>\n",
       "  </thead>\n",
       "  <tbody>\n",
       "    <tr>\n",
       "      <th>0</th>\n",
       "      <td>1</td>\n",
       "      <td>0</td>\n",
       "      <td>0</td>\n",
       "      <td>0</td>\n",
       "      <td>0</td>\n",
       "      <td>0</td>\n",
       "      <td>0</td>\n",
       "      <td>1</td>\n",
       "      <td>1</td>\n",
       "      <td>0</td>\n",
       "    </tr>\n",
       "    <tr>\n",
       "      <th>1</th>\n",
       "      <td>1</td>\n",
       "      <td>0</td>\n",
       "      <td>0</td>\n",
       "      <td>0</td>\n",
       "      <td>1</td>\n",
       "      <td>0</td>\n",
       "      <td>0</td>\n",
       "      <td>1</td>\n",
       "      <td>1</td>\n",
       "      <td>0</td>\n",
       "    </tr>\n",
       "    <tr>\n",
       "      <th>2</th>\n",
       "      <td>0</td>\n",
       "      <td>0</td>\n",
       "      <td>1</td>\n",
       "      <td>0</td>\n",
       "      <td>0</td>\n",
       "      <td>0</td>\n",
       "      <td>1</td>\n",
       "      <td>1</td>\n",
       "      <td>1</td>\n",
       "      <td>0</td>\n",
       "    </tr>\n",
       "    <tr>\n",
       "      <th>3</th>\n",
       "      <td>1</td>\n",
       "      <td>0</td>\n",
       "      <td>0</td>\n",
       "      <td>0</td>\n",
       "      <td>0</td>\n",
       "      <td>0</td>\n",
       "      <td>0</td>\n",
       "      <td>1</td>\n",
       "      <td>1</td>\n",
       "      <td>0</td>\n",
       "    </tr>\n",
       "    <tr>\n",
       "      <th>4</th>\n",
       "      <td>0</td>\n",
       "      <td>0</td>\n",
       "      <td>1</td>\n",
       "      <td>0</td>\n",
       "      <td>0</td>\n",
       "      <td>0</td>\n",
       "      <td>0</td>\n",
       "      <td>1</td>\n",
       "      <td>1</td>\n",
       "      <td>0</td>\n",
       "    </tr>\n",
       "  </tbody>\n",
       "</table>\n",
       "</div>"
      ],
      "text/plain": [
       "   fuel_Diesel  fuel_LPG  fuel_Petrol  owner_Fourth & Above Owner  \\\n",
       "0            1         0            0                           0   \n",
       "1            1         0            0                           0   \n",
       "2            0         0            1                           0   \n",
       "3            1         0            0                           0   \n",
       "4            0         0            1                           0   \n",
       "\n",
       "   owner_Second Owner  owner_Test Drive Car  owner_Third Owner  \\\n",
       "0                   0                     0                  0   \n",
       "1                   1                     0                  0   \n",
       "2                   0                     0                  1   \n",
       "3                   0                     0                  0   \n",
       "4                   0                     0                  0   \n",
       "\n",
       "   transmission_Manual  seller_type_Individual  seller_type_Trustmark Dealer  \n",
       "0                    1                       1                             0  \n",
       "1                    1                       1                             0  \n",
       "2                    1                       1                             0  \n",
       "3                    1                       1                             0  \n",
       "4                    1                       1                             0  "
      ]
     },
     "execution_count": 93,
     "metadata": {},
     "output_type": "execute_result"
    }
   ],
   "source": [
    "Cardekho1 = pd.get_dummies(Cardekho[['fuel','owner','transmission','seller_type']],drop_first=True)\n",
    "Cardekho1.head()"
   ]
  },
  {
   "cell_type": "code",
   "execution_count": 94,
   "id": "845a1d48",
   "metadata": {},
   "outputs": [
    {
     "data": {
      "text/html": [
       "<div>\n",
       "<style scoped>\n",
       "    .dataframe tbody tr th:only-of-type {\n",
       "        vertical-align: middle;\n",
       "    }\n",
       "\n",
       "    .dataframe tbody tr th {\n",
       "        vertical-align: top;\n",
       "    }\n",
       "\n",
       "    .dataframe thead th {\n",
       "        text-align: right;\n",
       "    }\n",
       "</style>\n",
       "<table border=\"1\" class=\"dataframe\">\n",
       "  <thead>\n",
       "    <tr style=\"text-align: right;\">\n",
       "      <th></th>\n",
       "      <th>Age</th>\n",
       "      <th>km_driven</th>\n",
       "      <th>Mileage</th>\n",
       "      <th>Engine</th>\n",
       "      <th>MaxPower</th>\n",
       "      <th>Torque</th>\n",
       "      <th>seats</th>\n",
       "      <th>selling_price</th>\n",
       "      <th>fuel_Diesel</th>\n",
       "      <th>fuel_LPG</th>\n",
       "      <th>fuel_Petrol</th>\n",
       "      <th>owner_Fourth &amp; Above Owner</th>\n",
       "      <th>owner_Second Owner</th>\n",
       "      <th>owner_Test Drive Car</th>\n",
       "      <th>owner_Third Owner</th>\n",
       "      <th>transmission_Manual</th>\n",
       "      <th>seller_type_Individual</th>\n",
       "      <th>seller_type_Trustmark Dealer</th>\n",
       "    </tr>\n",
       "  </thead>\n",
       "  <tbody>\n",
       "    <tr>\n",
       "      <th>0</th>\n",
       "      <td>8</td>\n",
       "      <td>145500</td>\n",
       "      <td>23.40</td>\n",
       "      <td>1248.0</td>\n",
       "      <td>74.00</td>\n",
       "      <td>190.0</td>\n",
       "      <td>5.0</td>\n",
       "      <td>450000</td>\n",
       "      <td>1</td>\n",
       "      <td>0</td>\n",
       "      <td>0</td>\n",
       "      <td>0</td>\n",
       "      <td>0</td>\n",
       "      <td>0</td>\n",
       "      <td>0</td>\n",
       "      <td>1</td>\n",
       "      <td>1</td>\n",
       "      <td>0</td>\n",
       "    </tr>\n",
       "    <tr>\n",
       "      <th>1</th>\n",
       "      <td>8</td>\n",
       "      <td>120000</td>\n",
       "      <td>21.14</td>\n",
       "      <td>1498.0</td>\n",
       "      <td>103.52</td>\n",
       "      <td>250.0</td>\n",
       "      <td>5.0</td>\n",
       "      <td>370000</td>\n",
       "      <td>1</td>\n",
       "      <td>0</td>\n",
       "      <td>0</td>\n",
       "      <td>0</td>\n",
       "      <td>1</td>\n",
       "      <td>0</td>\n",
       "      <td>0</td>\n",
       "      <td>1</td>\n",
       "      <td>1</td>\n",
       "      <td>0</td>\n",
       "    </tr>\n",
       "    <tr>\n",
       "      <th>2</th>\n",
       "      <td>16</td>\n",
       "      <td>140000</td>\n",
       "      <td>17.70</td>\n",
       "      <td>1497.0</td>\n",
       "      <td>78.00</td>\n",
       "      <td>12.7</td>\n",
       "      <td>5.0</td>\n",
       "      <td>158000</td>\n",
       "      <td>0</td>\n",
       "      <td>0</td>\n",
       "      <td>1</td>\n",
       "      <td>0</td>\n",
       "      <td>0</td>\n",
       "      <td>0</td>\n",
       "      <td>1</td>\n",
       "      <td>1</td>\n",
       "      <td>1</td>\n",
       "      <td>0</td>\n",
       "    </tr>\n",
       "    <tr>\n",
       "      <th>3</th>\n",
       "      <td>12</td>\n",
       "      <td>127000</td>\n",
       "      <td>23.00</td>\n",
       "      <td>1396.0</td>\n",
       "      <td>90.00</td>\n",
       "      <td>22.4</td>\n",
       "      <td>5.0</td>\n",
       "      <td>225000</td>\n",
       "      <td>1</td>\n",
       "      <td>0</td>\n",
       "      <td>0</td>\n",
       "      <td>0</td>\n",
       "      <td>0</td>\n",
       "      <td>0</td>\n",
       "      <td>0</td>\n",
       "      <td>1</td>\n",
       "      <td>1</td>\n",
       "      <td>0</td>\n",
       "    </tr>\n",
       "    <tr>\n",
       "      <th>4</th>\n",
       "      <td>15</td>\n",
       "      <td>120000</td>\n",
       "      <td>16.10</td>\n",
       "      <td>1298.0</td>\n",
       "      <td>88.20</td>\n",
       "      <td>11.5</td>\n",
       "      <td>5.0</td>\n",
       "      <td>130000</td>\n",
       "      <td>0</td>\n",
       "      <td>0</td>\n",
       "      <td>1</td>\n",
       "      <td>0</td>\n",
       "      <td>0</td>\n",
       "      <td>0</td>\n",
       "      <td>0</td>\n",
       "      <td>1</td>\n",
       "      <td>1</td>\n",
       "      <td>0</td>\n",
       "    </tr>\n",
       "  </tbody>\n",
       "</table>\n",
       "</div>"
      ],
      "text/plain": [
       "   Age  km_driven  Mileage  Engine  MaxPower  Torque  seats  selling_price  \\\n",
       "0    8     145500    23.40  1248.0     74.00   190.0    5.0         450000   \n",
       "1    8     120000    21.14  1498.0    103.52   250.0    5.0         370000   \n",
       "2   16     140000    17.70  1497.0     78.00    12.7    5.0         158000   \n",
       "3   12     127000    23.00  1396.0     90.00    22.4    5.0         225000   \n",
       "4   15     120000    16.10  1298.0     88.20    11.5    5.0         130000   \n",
       "\n",
       "   fuel_Diesel  fuel_LPG  fuel_Petrol  owner_Fourth & Above Owner  \\\n",
       "0            1         0            0                           0   \n",
       "1            1         0            0                           0   \n",
       "2            0         0            1                           0   \n",
       "3            1         0            0                           0   \n",
       "4            0         0            1                           0   \n",
       "\n",
       "   owner_Second Owner  owner_Test Drive Car  owner_Third Owner  \\\n",
       "0                   0                     0                  0   \n",
       "1                   1                     0                  0   \n",
       "2                   0                     0                  1   \n",
       "3                   0                     0                  0   \n",
       "4                   0                     0                  0   \n",
       "\n",
       "   transmission_Manual  seller_type_Individual  seller_type_Trustmark Dealer  \n",
       "0                    1                       1                             0  \n",
       "1                    1                       1                             0  \n",
       "2                    1                       1                             0  \n",
       "3                    1                       1                             0  \n",
       "4                    1                       1                             0  "
      ]
     },
     "execution_count": 94,
     "metadata": {},
     "output_type": "execute_result"
    }
   ],
   "source": [
    "Cardekho2 = pd.concat([Cardekho,Cardekho1],axis = 1)\n",
    "Cardekho2.drop(['Company','fuel','name','seller_type','transmission','owner'],axis = 1,inplace = True)\n",
    "Cardekho2.head()"
   ]
  },
  {
   "cell_type": "code",
   "execution_count": 95,
   "id": "676db994",
   "metadata": {},
   "outputs": [
    {
     "data": {
      "text/plain": [
       "<AxesSubplot:>"
      ]
     },
     "execution_count": 95,
     "metadata": {},
     "output_type": "execute_result"
    },
    {
     "data": {
      "image/png": "[encoded data removed]",
      "text/plain": [
       "<Figure size 936x936 with 2 Axes>"
      ]
     },
     "metadata": {
      "needs_background": "light"
     },
     "output_type": "display_data"
    }
   ],
   "source": [
    "plt.figure(figsize = (13,13))\n",
    "sns.heatmap(Cardekho2.corr(),annot = True)"
   ]
  },
  {
   "cell_type": "code",
   "execution_count": 96,
   "id": "a4245b7f",
   "metadata": {},
   "outputs": [],
   "source": [
    "from sklearn.model_selection import train_test_split\n",
    "from sklearn.preprocessing import StandardScaler\n",
    "from sklearn.linear_model import LinearRegression\n",
    "from sklearn import metrics\n",
    "from sklearn.metrics import accuracy_score\n",
    "lm = LinearRegression()"
   ]
  },
  {
   "cell_type": "code",
   "execution_count": 97,
   "id": "25c2c282",
   "metadata": {},
   "outputs": [],
   "source": [
    "X=Cardekho2.drop(['selling_price'],axis = 1)\n",
    "y = Cardekho2['selling_price']"
   ]
  },
  {
   "cell_type": "code",
   "execution_count": 98,
   "id": "50b69bbd",
   "metadata": {},
   "outputs": [
    {
     "data": {
      "text/html": [
       "<div>\n",
       "<style scoped>\n",
       "    .dataframe tbody tr th:only-of-type {\n",
       "        vertical-align: middle;\n",
       "    }\n",
       "\n",
       "    .dataframe tbody tr th {\n",
       "        vertical-align: top;\n",
       "    }\n",
       "\n",
       "    .dataframe thead th {\n",
       "        text-align: right;\n",
       "    }\n",
       "</style>\n",
       "<table border=\"1\" class=\"dataframe\">\n",
       "  <thead>\n",
       "    <tr style=\"text-align: right;\">\n",
       "      <th></th>\n",
       "      <th>Age</th>\n",
       "      <th>km_driven</th>\n",
       "      <th>Mileage</th>\n",
       "      <th>Engine</th>\n",
       "      <th>MaxPower</th>\n",
       "      <th>Torque</th>\n",
       "      <th>seats</th>\n",
       "      <th>fuel_Diesel</th>\n",
       "      <th>fuel_LPG</th>\n",
       "      <th>fuel_Petrol</th>\n",
       "      <th>owner_Fourth &amp; Above Owner</th>\n",
       "      <th>owner_Second Owner</th>\n",
       "      <th>owner_Test Drive Car</th>\n",
       "      <th>owner_Third Owner</th>\n",
       "      <th>transmission_Manual</th>\n",
       "      <th>seller_type_Individual</th>\n",
       "      <th>seller_type_Trustmark Dealer</th>\n",
       "    </tr>\n",
       "  </thead>\n",
       "  <tbody>\n",
       "    <tr>\n",
       "      <th>0</th>\n",
       "      <td>-0.048001</td>\n",
       "      <td>1.338409</td>\n",
       "      <td>1.028586</td>\n",
       "      <td>-0.437286</td>\n",
       "      <td>-0.511454</td>\n",
       "      <td>0.212436</td>\n",
       "      <td>-0.427289</td>\n",
       "      <td>0.920123</td>\n",
       "      <td>-0.06854</td>\n",
       "      <td>-0.898669</td>\n",
       "      <td>-0.147914</td>\n",
       "      <td>-0.591229</td>\n",
       "      <td>-0.024812</td>\n",
       "      <td>-0.270471</td>\n",
       "      <td>0.385186</td>\n",
       "      <td>0.448699</td>\n",
       "      <td>-0.172938</td>\n",
       "    </tr>\n",
       "    <tr>\n",
       "      <th>1</th>\n",
       "      <td>-0.048001</td>\n",
       "      <td>0.887471</td>\n",
       "      <td>0.447345</td>\n",
       "      <td>0.063596</td>\n",
       "      <td>0.318119</td>\n",
       "      <td>0.839084</td>\n",
       "      <td>-0.427289</td>\n",
       "      <td>0.920123</td>\n",
       "      <td>-0.06854</td>\n",
       "      <td>-0.898669</td>\n",
       "      <td>-0.147914</td>\n",
       "      <td>1.691392</td>\n",
       "      <td>-0.024812</td>\n",
       "      <td>-0.270471</td>\n",
       "      <td>0.385186</td>\n",
       "      <td>0.448699</td>\n",
       "      <td>-0.172938</td>\n",
       "    </tr>\n",
       "    <tr>\n",
       "      <th>2</th>\n",
       "      <td>1.932221</td>\n",
       "      <td>1.241148</td>\n",
       "      <td>-0.437377</td>\n",
       "      <td>0.061593</td>\n",
       "      <td>-0.399046</td>\n",
       "      <td>-1.639307</td>\n",
       "      <td>-0.427289</td>\n",
       "      <td>-1.086812</td>\n",
       "      <td>-0.06854</td>\n",
       "      <td>1.112756</td>\n",
       "      <td>-0.147914</td>\n",
       "      <td>-0.591229</td>\n",
       "      <td>-0.024812</td>\n",
       "      <td>3.697252</td>\n",
       "      <td>0.385186</td>\n",
       "      <td>0.448699</td>\n",
       "      <td>-0.172938</td>\n",
       "    </tr>\n",
       "    <tr>\n",
       "      <th>3</th>\n",
       "      <td>0.942110</td>\n",
       "      <td>1.011258</td>\n",
       "      <td>0.925712</td>\n",
       "      <td>-0.140764</td>\n",
       "      <td>-0.061821</td>\n",
       "      <td>-1.537999</td>\n",
       "      <td>-0.427289</td>\n",
       "      <td>0.920123</td>\n",
       "      <td>-0.06854</td>\n",
       "      <td>-0.898669</td>\n",
       "      <td>-0.147914</td>\n",
       "      <td>-0.591229</td>\n",
       "      <td>-0.024812</td>\n",
       "      <td>-0.270471</td>\n",
       "      <td>0.385186</td>\n",
       "      <td>0.448699</td>\n",
       "      <td>-0.172938</td>\n",
       "    </tr>\n",
       "    <tr>\n",
       "      <th>4</th>\n",
       "      <td>1.684694</td>\n",
       "      <td>0.887471</td>\n",
       "      <td>-0.848875</td>\n",
       "      <td>-0.337109</td>\n",
       "      <td>-0.112405</td>\n",
       "      <td>-1.651840</td>\n",
       "      <td>-0.427289</td>\n",
       "      <td>-1.086812</td>\n",
       "      <td>-0.06854</td>\n",
       "      <td>1.112756</td>\n",
       "      <td>-0.147914</td>\n",
       "      <td>-0.591229</td>\n",
       "      <td>-0.024812</td>\n",
       "      <td>-0.270471</td>\n",
       "      <td>0.385186</td>\n",
       "      <td>0.448699</td>\n",
       "      <td>-0.172938</td>\n",
       "    </tr>\n",
       "  </tbody>\n",
       "</table>\n",
       "</div>"
      ],
      "text/plain": [
       "        Age  km_driven   Mileage    Engine  MaxPower    Torque     seats  \\\n",
       "0 -0.048001   1.338409  1.028586 -0.437286 -0.511454  0.212436 -0.427289   \n",
       "1 -0.048001   0.887471  0.447345  0.063596  0.318119  0.839084 -0.427289   \n",
       "2  1.932221   1.241148 -0.437377  0.061593 -0.399046 -1.639307 -0.427289   \n",
       "3  0.942110   1.011258  0.925712 -0.140764 -0.061821 -1.537999 -0.427289   \n",
       "4  1.684694   0.887471 -0.848875 -0.337109 -0.112405 -1.651840 -0.427289   \n",
       "\n",
       "   fuel_Diesel  fuel_LPG  fuel_Petrol  owner_Fourth & Above Owner  \\\n",
       "0     0.920123  -0.06854    -0.898669                   -0.147914   \n",
       "1     0.920123  -0.06854    -0.898669                   -0.147914   \n",
       "2    -1.086812  -0.06854     1.112756                   -0.147914   \n",
       "3     0.920123  -0.06854    -0.898669                   -0.147914   \n",
       "4    -1.086812  -0.06854     1.112756                   -0.147914   \n",
       "\n",
       "   owner_Second Owner  owner_Test Drive Car  owner_Third Owner  \\\n",
       "0           -0.591229             -0.024812          -0.270471   \n",
       "1            1.691392             -0.024812          -0.270471   \n",
       "2           -0.591229             -0.024812           3.697252   \n",
       "3           -0.591229             -0.024812          -0.270471   \n",
       "4           -0.591229             -0.024812          -0.270471   \n",
       "\n",
       "   transmission_Manual  seller_type_Individual  seller_type_Trustmark Dealer  \n",
       "0             0.385186                0.448699                     -0.172938  \n",
       "1             0.385186                0.448699                     -0.172938  \n",
       "2             0.385186                0.448699                     -0.172938  \n",
       "3             0.385186                0.448699                     -0.172938  \n",
       "4             0.385186                0.448699                     -0.172938  "
      ]
     },
     "execution_count": 98,
     "metadata": {},
     "output_type": "execute_result"
    }
   ],
   "source": [
    "norm = StandardScaler()\n",
    "X_norm = norm.fit_transform(X)\n",
    "X_norm = pd.DataFrame(X_norm, columns=X.columns)\n",
    "X_norm.head()"
   ]
  },
  {
   "cell_type": "code",
   "execution_count": 99,
   "id": "20fe7553",
   "metadata": {},
   "outputs": [],
   "source": [
    "X_train, X_test, y_train, y_test = train_test_split(X_norm, y, test_size=0.33,random_state=42)"
   ]
  },
  {
   "cell_type": "code",
   "execution_count": 100,
   "id": "954050ce",
   "metadata": {},
   "outputs": [
    {
     "data": {
      "text/plain": [
       "LinearRegression()"
      ]
     },
     "execution_count": 100,
     "metadata": {},
     "output_type": "execute_result"
    }
   ],
   "source": [
    "lm.fit(X_train,y_train)"
   ]
  },
  {
   "cell_type": "code",
   "execution_count": 101,
   "id": "fe357520",
   "metadata": {},
   "outputs": [
    {
     "data": {
      "text/plain": [
       "array([-157192.4846946 ,  -44883.57104408,   23321.32099464,\n",
       "         31468.71099517,  388746.18344945,   43795.70177122,\n",
       "        -34163.12484574,    7984.36081719,   13219.32011214,\n",
       "        -20923.44845063,    3948.20721277,  -23512.71750102,\n",
       "         59170.81715772,  -10870.07232887, -166634.80934728,\n",
       "        -88200.88985499,  -54522.78039592])"
      ]
     },
     "execution_count": 101,
     "metadata": {},
     "output_type": "execute_result"
    }
   ],
   "source": [
    "lm.coef_"
   ]
  },
  {
   "cell_type": "code",
   "execution_count": 102,
   "id": "bebd0441",
   "metadata": {},
   "outputs": [],
   "source": [
    "predictions = lm.predict(X_test)"
   ]
  },
  {
   "cell_type": "code",
   "execution_count": 138,
   "id": "c23f4148",
   "metadata": {},
   "outputs": [
    {
     "name": "stdout",
     "output_type": "stream",
     "text": [
      "MAE: 2817.7132491482603\n",
      "MSE: 22591976.589863386\n",
      "RMSE: 4753.101786187982\n",
      "R Squared: 0.7876266946325193\n",
      "Adjusted R Squared: 0.780505693809979\n"
     ]
    }
   ],
   "source": [
    "print('MAE:', metrics.mean_absolute_error(y_test, predictions))\n",
    "print('MSE:', metrics.mean_squared_error(y_test, predictions))\n",
    "print('RMSE:', np.sqrt(metrics.mean_squared_error(y_test, predictions)))\n",
    "print('R Squared:',lm.score(X_test, y_test))\n",
    "print('Adjusted R Squared:',1 - (1-lm.score(X_test, y_test))*(len(y_test)-1)/(len(y_test)-X_test.shape[1]-1))"
   ]
  },
  {
   "cell_type": "code",
   "execution_count": 104,
   "id": "31502295",
   "metadata": {},
   "outputs": [],
   "source": [
    "err = (y_test-predictions)"
   ]
  },
  {
   "cell_type": "code",
   "execution_count": 105,
   "id": "11446076",
   "metadata": {},
   "outputs": [
    {
     "name": "stderr",
     "output_type": "stream",
     "text": [
      "C:\\Users\\vansh\\anaconda3\\lib\\site-packages\\seaborn\\distributions.py:2619: FutureWarning: `distplot` is a deprecated function and will be removed in a future version. Please adapt your code to use either `displot` (a figure-level function with similar flexibility) or `histplot` (an axes-level function for histograms).\n",
      "  warnings.warn(msg, FutureWarning)\n"
     ]
    },
    {
     "data": {
      "text/plain": [
       "<AxesSubplot:xlabel='selling_price', ylabel='Density'>"
      ]
     },
     "execution_count": 105,
     "metadata": {},
     "output_type": "execute_result"
    },
    {
     "data": {
      "image/png": "[encoded data removed]",
      "text/plain": [
       "<Figure size 432x288 with 1 Axes>"
      ]
     },
     "metadata": {
      "needs_background": "light"
     },
     "output_type": "display_data"
    }
   ],
   "source": [
    "sns.distplot(err)"
   ]
  },
  {
   "cell_type": "code",
   "execution_count": 106,
   "id": "aeb27648",
   "metadata": {},
   "outputs": [
    {
     "name": "stderr",
     "output_type": "stream",
     "text": [
      "C:\\Users\\vansh\\anaconda3\\lib\\site-packages\\seaborn\\_decorators.py:36: FutureWarning: Pass the following variable as a keyword arg: x. From version 0.12, the only valid positional argument will be `data`, and passing other arguments without an explicit keyword will result in an error or misinterpretation.\n",
      "  warnings.warn(\n"
     ]
    },
    {
     "data": {
      "text/plain": [
       "<AxesSubplot:xlabel='Mileage'>"
      ]
     },
     "execution_count": 106,
     "metadata": {},
     "output_type": "execute_result"
    },
    {
     "data": {
      "image/png": "[encoded data removed]",
      "text/plain": [
       "<Figure size 432x288 with 1 Axes>"
      ]
     },
     "metadata": {
      "needs_background": "light"
     },
     "output_type": "display_data"
    }
   ],
   "source": [
    "sns.boxplot(Cardekho.Mileage)"
   ]
  },
  {
   "cell_type": "code",
   "execution_count": 107,
   "id": "c897d1fe",
   "metadata": {},
   "outputs": [
    {
     "name": "stderr",
     "output_type": "stream",
     "text": [
      "C:\\Users\\vansh\\anaconda3\\lib\\site-packages\\seaborn\\_decorators.py:36: FutureWarning: Pass the following variable as a keyword arg: x. From version 0.12, the only valid positional argument will be `data`, and passing other arguments without an explicit keyword will result in an error or misinterpretation.\n",
      "  warnings.warn(\n"
     ]
    },
    {
     "data": {
      "text/plain": [
       "<AxesSubplot:xlabel='Engine'>"
      ]
     },
     "execution_count": 107,
     "metadata": {},
     "output_type": "execute_result"
    },
    {
     "data": {
      "image/png": "[encoded data removed]",
      "text/plain": [
       "<Figure size 432x288 with 1 Axes>"
      ]
     },
     "metadata": {
      "needs_background": "light"
     },
     "output_type": "display_data"
    }
   ],
   "source": [
    "sns.boxplot(Cardekho.Engine)"
   ]
  },
  {
   "cell_type": "code",
   "execution_count": 108,
   "id": "b50a999b",
   "metadata": {},
   "outputs": [
    {
     "name": "stderr",
     "output_type": "stream",
     "text": [
      "C:\\Users\\vansh\\anaconda3\\lib\\site-packages\\seaborn\\_decorators.py:36: FutureWarning: Pass the following variable as a keyword arg: x. From version 0.12, the only valid positional argument will be `data`, and passing other arguments without an explicit keyword will result in an error or misinterpretation.\n",
      "  warnings.warn(\n"
     ]
    },
    {
     "data": {
      "text/plain": [
       "<AxesSubplot:xlabel='Torque'>"
      ]
     },
     "execution_count": 108,
     "metadata": {},
     "output_type": "execute_result"
    },
    {
     "data": {
      "image/png": "[encoded data removed]",
      "text/plain": [
       "<Figure size 432x288 with 1 Axes>"
      ]
     },
     "metadata": {
      "needs_background": "light"
     },
     "output_type": "display_data"
    }
   ],
   "source": [
    "sns.boxplot(Cardekho.Torque)"
   ]
  },
  {
   "cell_type": "markdown",
   "id": "f520b36d",
   "metadata": {},
   "source": [
    "#RFE"
   ]
  },
  {
   "cell_type": "code",
   "execution_count": 109,
   "id": "fa925718",
   "metadata": {},
   "outputs": [
    {
     "data": {
      "text/plain": [
       "RFE(estimator=LinearRegression(), n_features_to_select=1)"
      ]
     },
     "execution_count": 109,
     "metadata": {},
     "output_type": "execute_result"
    }
   ],
   "source": [
    "from sklearn.feature_selection import RFE\n",
    "# here we want only one final feature, we do this to produce a ranking\n",
    "n_features_to_select = 1\n",
    "rfe = RFE(lm, n_features_to_select=n_features_to_select)\n",
    "rfe.fit(X_train, y_train)"
   ]
  },
  {
   "cell_type": "code",
   "execution_count": 110,
   "id": "232d946f",
   "metadata": {},
   "outputs": [
    {
     "data": {
      "text/plain": [
       "RFE(estimator=LinearRegression(), n_features_to_select=10)"
      ]
     },
     "execution_count": 110,
     "metadata": {},
     "output_type": "execute_result"
    }
   ],
   "source": [
    "n_features_to_select = 10\n",
    "rfe = RFE(lm, n_features_to_select=n_features_to_select)\n",
    "rfe.fit(X_train, y_train)"
   ]
  },
  {
   "cell_type": "code",
   "execution_count": 111,
   "id": "3d2ff432",
   "metadata": {},
   "outputs": [
    {
     "name": "stdout",
     "output_type": "stream",
     "text": [
      "1 Age\n",
      "1 km_driven\n",
      "1 MaxPower\n",
      "1 Torque\n",
      "1 seats\n",
      "1 fuel_Petrol\n",
      "1 owner_Test Drive Car\n",
      "1 transmission_Manual\n",
      "1 seller_type_Individual\n",
      "1 seller_type_Trustmark Dealer\n",
      "2 owner_Second Owner\n",
      "3 Engine\n",
      "4 Mileage\n",
      "5 fuel_LPG\n",
      "6 owner_Third Owner\n",
      "7 fuel_Diesel\n",
      "8 owner_Fourth & Above Owner\n"
     ]
    }
   ],
   "source": [
    "from operator import itemgetter\n",
    "features = X_train.columns.to_list()\n",
    "for x, y in (sorted(zip(rfe.ranking_ , features), key=itemgetter(0))):\n",
    "    print(x, y)"
   ]
  },
  {
   "cell_type": "code",
   "execution_count": 112,
   "id": "f1b3b679",
   "metadata": {},
   "outputs": [],
   "source": [
    "predictions2 = rfe.predict(X_test)"
   ]
  },
  {
   "cell_type": "code",
   "execution_count": 135,
   "id": "16ae62ac",
   "metadata": {
    "scrolled": true
   },
   "outputs": [
    {
     "name": "stdout",
     "output_type": "stream",
     "text": [
      "MAE: 2803.0463230155733\n",
      "MSE: 22623049.142000914\n",
      "RMSE: 4756.369323549309\n",
      "R Squared: 0.7876266946325193\n",
      "Adjusted R Squared: 0.780505693809979\n"
     ]
    }
   ],
   "source": [
    "print('MAE:', metrics.mean_absolute_error(y_test, predictions2))\n",
    "print('MSE:', metrics.mean_squared_error(y_test, predictions2))\n",
    "print('RMSE:', np.sqrt(metrics.mean_squared_error(y_test, predictions2)))\n",
    "print('R Squared:',lm.score(X_test, y_test))\n",
    "print('Adjusted R Squared:',1 - (1-lm.score(X_test, y_test))*(len(y_test)-1)/(len(y_test)-X_test.shape[1]-1))"
   ]
  },
  {
   "cell_type": "code",
   "execution_count": 55,
   "id": "c49928c3",
   "metadata": {},
   "outputs": [
    {
     "name": "stderr",
     "output_type": "stream",
     "text": [
      "C:\\Users\\vansh\\anaconda3\\lib\\site-packages\\seaborn\\_decorators.py:36: FutureWarning: Pass the following variable as a keyword arg: x. From version 0.12, the only valid positional argument will be `data`, and passing other arguments without an explicit keyword will result in an error or misinterpretation.\n",
      "  warnings.warn(\n"
     ]
    },
    {
     "data": {
      "text/plain": [
       "<AxesSubplot:xlabel='Age', ylabel='count'>"
      ]
     },
     "execution_count": 55,
     "metadata": {},
     "output_type": "execute_result"
    },
    {
     "data": {
      "image/png": "[encoded data removed]",
      "text/plain": [
       "<Figure size 432x288 with 1 Axes>"
      ]
     },
     "metadata": {
      "needs_background": "light"
     },
     "output_type": "display_data"
    }
   ],
   "source": [
    "sns.countplot(Cardekho['Age'])"
   ]
  },
  {
   "cell_type": "code",
   "execution_count": 56,
   "id": "eeb66d98",
   "metadata": {},
   "outputs": [
    {
     "name": "stderr",
     "output_type": "stream",
     "text": [
      "C:\\Users\\vansh\\anaconda3\\lib\\site-packages\\seaborn\\distributions.py:2619: FutureWarning: `distplot` is a deprecated function and will be removed in a future version. Please adapt your code to use either `displot` (a figure-level function with similar flexibility) or `histplot` (an axes-level function for histograms).\n",
      "  warnings.warn(msg, FutureWarning)\n"
     ]
    },
    {
     "data": {
      "text/plain": [
       "<AxesSubplot:xlabel='km_driven', ylabel='Density'>"
      ]
     },
     "execution_count": 56,
     "metadata": {},
     "output_type": "execute_result"
    },
    {
     "data": {
      "image/png": "[encoded data removed]",
      "text/plain": [
       "<Figure size 432x288 with 1 Axes>"
      ]
     },
     "metadata": {
      "needs_background": "light"
     },
     "output_type": "display_data"
    }
   ],
   "source": [
    "sns.distplot(Cardekho['km_driven'])"
   ]
  },
  {
   "cell_type": "code",
   "execution_count": 57,
   "id": "81fa5f87",
   "metadata": {},
   "outputs": [
    {
     "name": "stderr",
     "output_type": "stream",
     "text": [
      "C:\\Users\\vansh\\anaconda3\\lib\\site-packages\\seaborn\\distributions.py:2619: FutureWarning: `distplot` is a deprecated function and will be removed in a future version. Please adapt your code to use either `displot` (a figure-level function with similar flexibility) or `histplot` (an axes-level function for histograms).\n",
      "  warnings.warn(msg, FutureWarning)\n"
     ]
    },
    {
     "data": {
      "text/plain": [
       "<AxesSubplot:xlabel='Mileage', ylabel='Density'>"
      ]
     },
     "execution_count": 57,
     "metadata": {},
     "output_type": "execute_result"
    },
    {
     "data": {
      "image/png": "[encoded data removed]",
      "text/plain": [
       "<Figure size 432x288 with 1 Axes>"
      ]
     },
     "metadata": {
      "needs_background": "light"
     },
     "output_type": "display_data"
    }
   ],
   "source": [
    "sns.distplot(Cardekho['Mileage'])"
   ]
  },
  {
   "cell_type": "code",
   "execution_count": 58,
   "id": "616620ac",
   "metadata": {},
   "outputs": [
    {
     "name": "stderr",
     "output_type": "stream",
     "text": [
      "C:\\Users\\vansh\\anaconda3\\lib\\site-packages\\seaborn\\distributions.py:2619: FutureWarning: `distplot` is a deprecated function and will be removed in a future version. Please adapt your code to use either `displot` (a figure-level function with similar flexibility) or `histplot` (an axes-level function for histograms).\n",
      "  warnings.warn(msg, FutureWarning)\n"
     ]
    },
    {
     "data": {
      "text/plain": [
       "<AxesSubplot:xlabel='Engine', ylabel='Density'>"
      ]
     },
     "execution_count": 58,
     "metadata": {},
     "output_type": "execute_result"
    },
    {
     "data": {
      "image/png": "[encoded data removed]",
      "text/plain": [
       "<Figure size 432x288 with 1 Axes>"
      ]
     },
     "metadata": {
      "needs_background": "light"
     },
     "output_type": "display_data"
    }
   ],
   "source": [
    "sns.distplot(Cardekho['Engine'])"
   ]
  },
  {
   "cell_type": "code",
   "execution_count": 59,
   "id": "dbdc5b09",
   "metadata": {},
   "outputs": [
    {
     "name": "stderr",
     "output_type": "stream",
     "text": [
      "C:\\Users\\vansh\\anaconda3\\lib\\site-packages\\seaborn\\distributions.py:2619: FutureWarning: `distplot` is a deprecated function and will be removed in a future version. Please adapt your code to use either `displot` (a figure-level function with similar flexibility) or `histplot` (an axes-level function for histograms).\n",
      "  warnings.warn(msg, FutureWarning)\n"
     ]
    },
    {
     "data": {
      "text/plain": [
       "<AxesSubplot:xlabel='Torque', ylabel='Density'>"
      ]
     },
     "execution_count": 59,
     "metadata": {},
     "output_type": "execute_result"
    },
    {
     "data": {
      "image/png": "[encoded data removed]",
      "text/plain": [
       "<Figure size 432x288 with 1 Axes>"
      ]
     },
     "metadata": {
      "needs_background": "light"
     },
     "output_type": "display_data"
    }
   ],
   "source": [
    "sns.distplot(Cardekho['Torque'])"
   ]
  },
  {
   "cell_type": "code",
   "execution_count": 60,
   "id": "345e9ed8",
   "metadata": {},
   "outputs": [
    {
     "name": "stderr",
     "output_type": "stream",
     "text": [
      "C:\\Users\\vansh\\anaconda3\\lib\\site-packages\\seaborn\\distributions.py:2619: FutureWarning: `distplot` is a deprecated function and will be removed in a future version. Please adapt your code to use either `displot` (a figure-level function with similar flexibility) or `histplot` (an axes-level function for histograms).\n",
      "  warnings.warn(msg, FutureWarning)\n"
     ]
    },
    {
     "data": {
      "text/plain": [
       "<AxesSubplot:xlabel='MaxPower', ylabel='Density'>"
      ]
     },
     "execution_count": 60,
     "metadata": {},
     "output_type": "execute_result"
    },
    {
     "data": {
      "image/png": "[encoded data removed]",
      "text/plain": [
       "<Figure size 432x288 with 1 Axes>"
      ]
     },
     "metadata": {
      "needs_background": "light"
     },
     "output_type": "display_data"
    }
   ],
   "source": [
    "sns.distplot(Cardekho['MaxPower'])"
   ]
  }
 ],
 "metadata": {
  "kernelspec": {
   "display_name": "Python 3 (ipykernel)",
   "language": "python",
   "name": "python3"
  },
  "language_info": {
   "codemirror_mode": {
    "name": "ipython",
    "version": 3
   },
   "file_extension": ".py",
   "mimetype": "text/x-python",
   "name": "python",
   "nbconvert_exporter": "python",
   "pygments_lexer": "ipython3",
   "version": "3.9.7"
  }
 },
 "nbformat": 4,
 "nbformat_minor": 5
}
